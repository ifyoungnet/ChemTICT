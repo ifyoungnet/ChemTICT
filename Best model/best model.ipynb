{
 "cells": [
  {
   "cell_type": "code",
   "execution_count": null,
   "id": "55c8adc2-5f68-4e55-bdd8-ebb7e1ec7101",
   "metadata": {},
   "outputs": [],
   "source": [
    "import pandas as pd\n",
    "import joblib\n",
    "model = joblib.load('AtomPairfinal_model.pkl')\n",
    "data = pd.read_csv(r\".../atompair-Compound 1 and Compound 2.csv\")\n",
    "X = data.drop(columns=['SMILES'])\n",
    "predictions = model.predict(X)\n",
    "data['Prediction'] = predictions\n",
    "output_path = r\".../predictions.csv\"\n",
    "data.to_csv(output_path, index=False)"
   ]
  }
 ],
 "metadata": {
  "kernelspec": {
   "display_name": "Python 3 (ipykernel)",
   "language": "python",
   "name": "python3"
  },
  "language_info": {
   "codemirror_mode": {
    "name": "ipython",
    "version": 3
   },
   "file_extension": ".py",
   "mimetype": "text/x-python",
   "name": "python",
   "nbconvert_exporter": "python",
   "pygments_lexer": "ipython3",
   "version": "3.8.18"
  }
 },
 "nbformat": 4,
 "nbformat_minor": 5
}
