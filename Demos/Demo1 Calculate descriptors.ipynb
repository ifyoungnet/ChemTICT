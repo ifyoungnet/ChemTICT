{
 "cells": [
  {
   "cell_type": "markdown",
   "id": "2b3e477c",
   "metadata": {},
   "source": [
    "## Calculate descriptors for the best model"
   ]
  },
  {
   "cell_type": "code",
   "execution_count": 1,
   "id": "0ae17cb8",
   "metadata": {},
   "outputs": [],
   "source": [
    "# import related packages\n",
    "import pandas as pd\n",
    "from rdkit import Chem\n",
    "from rdkit.Chem import rdMolDescriptors"
   ]
  },
  {
   "cell_type": "code",
   "execution_count": 3,
   "id": "2c989d7b",
   "metadata": {},
   "outputs": [],
   "source": [
    "# Load your molecules with  one COLUMN named \"SMILES\"\n",
    "df = pd.read_csv(r\"Inputs of Demo1.csv\")\n",
    "\n",
    "\n",
    "# Calculating\n",
    "fingerprint_values = []\n",
    "\n",
    "for smiles in df['SMILES']:\n",
    "    \n",
    "    mol = Chem.MolFromSmiles(smiles)\n",
    "    if mol is None:\n",
    "        continue\n",
    "    atompair_fp = rdMolDescriptors.GetHashedAtomPairFingerprintAsBitVect(mol,nBits=1024)\n",
    "    fingerprint_values.append([smiles] + list(atompair_fp.ToBitString()))\n",
    "\n",
    "column_names = ['SMILES'] + ['bitvector'+str(i) for i in range(len(fingerprint_values[0])-1)]\n",
    "\n",
    "fingerprint_df = pd.DataFrame(fingerprint_values, columns=column_names)\n",
    "\n",
    "\n",
    "# Save your descriptors' values into a CSV named \"Outputs of Demo1.csv\"\n",
    "\n",
    "fingerprint_df.to_csv(r\"Outputs of Demo1.csv\", index=False)"
   ]
  },
  {
   "cell_type": "code",
   "execution_count": null,
   "id": "3b9f0046",
   "metadata": {},
   "outputs": [],
   "source": []
  }
 ],
 "metadata": {
  "kernelspec": {
   "display_name": "Python 3 (ipykernel)",
   "language": "python",
   "name": "python3"
  },
  "language_info": {
   "codemirror_mode": {
    "name": "ipython",
    "version": 3
   },
   "file_extension": ".py",
   "mimetype": "text/x-python",
   "name": "python",
   "nbconvert_exporter": "python",
   "pygments_lexer": "ipython3",
   "version": "3.7.16"
  }
 },
 "nbformat": 4,
 "nbformat_minor": 5
}
